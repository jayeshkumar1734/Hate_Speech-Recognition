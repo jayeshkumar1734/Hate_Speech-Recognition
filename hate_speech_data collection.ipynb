{
  "nbformat": 4,
  "nbformat_minor": 0,
  "metadata": {
    "colab": {
      "name": "wp 3.ipynb",
      "provenance": [],
      "collapsed_sections": []
    },
    "kernelspec": {
      "name": "python3",
      "display_name": "Python 3"
    }
  },
  "cells": [
    {
      "cell_type": "code",
      "metadata": {
        "id": "wzYyWAh-wmvR"
      },
      "source": [
        "import pandas as pd\n",
        "url='https://raw.githubusercontent.com/dhavalpotdar/cyberbullying-detection/master/data/public_data.csv'\n",
        "df=pd.read_csv(url,error_bad_lines=False)"
      ],
      "execution_count": null,
      "outputs": []
    },
    {
      "cell_type": "code",
      "metadata": {
        "id": "EuNZukrHxZqI",
        "colab": {
          "base_uri": "https://localhost:8080/",
          "height": 402
        },
        "outputId": "60cea77d-23f8-4ffe-d2a2-c9c1b539ef95"
      },
      "source": [
        "df"
      ],
      "execution_count": null,
      "outputs": [
        {
          "output_type": "execute_result",
          "data": {
            "text/html": [
              "<div>\n",
              "<style scoped>\n",
              "    .dataframe tbody tr th:only-of-type {\n",
              "        vertical-align: middle;\n",
              "    }\n",
              "\n",
              "    .dataframe tbody tr th {\n",
              "        vertical-align: top;\n",
              "    }\n",
              "\n",
              "    .dataframe thead th {\n",
              "        text-align: right;\n",
              "    }\n",
              "</style>\n",
              "<table border=\"1\" class=\"dataframe\">\n",
              "  <thead>\n",
              "    <tr style=\"text-align: right;\">\n",
              "      <th></th>\n",
              "      <th>Unnamed: 0</th>\n",
              "      <th>count</th>\n",
              "      <th>hate_speech</th>\n",
              "      <th>offensive_language</th>\n",
              "      <th>neither</th>\n",
              "      <th>class</th>\n",
              "      <th>tweet</th>\n",
              "    </tr>\n",
              "  </thead>\n",
              "  <tbody>\n",
              "    <tr>\n",
              "      <th>0</th>\n",
              "      <td>0</td>\n",
              "      <td>3</td>\n",
              "      <td>0</td>\n",
              "      <td>0</td>\n",
              "      <td>3</td>\n",
              "      <td>2</td>\n",
              "      <td>!!! RT @mayasolovely: As a woman you shouldn't...</td>\n",
              "    </tr>\n",
              "    <tr>\n",
              "      <th>1</th>\n",
              "      <td>1</td>\n",
              "      <td>3</td>\n",
              "      <td>0</td>\n",
              "      <td>3</td>\n",
              "      <td>0</td>\n",
              "      <td>1</td>\n",
              "      <td>!!!!! RT @mleew17: boy dats cold...tyga dwn ba...</td>\n",
              "    </tr>\n",
              "    <tr>\n",
              "      <th>2</th>\n",
              "      <td>2</td>\n",
              "      <td>3</td>\n",
              "      <td>0</td>\n",
              "      <td>3</td>\n",
              "      <td>0</td>\n",
              "      <td>1</td>\n",
              "      <td>!!!!!!! RT @UrKindOfBrand Dawg!!!! RT @80sbaby...</td>\n",
              "    </tr>\n",
              "    <tr>\n",
              "      <th>3</th>\n",
              "      <td>3</td>\n",
              "      <td>3</td>\n",
              "      <td>0</td>\n",
              "      <td>2</td>\n",
              "      <td>1</td>\n",
              "      <td>1</td>\n",
              "      <td>!!!!!!!!! RT @C_G_Anderson: @viva_based she lo...</td>\n",
              "    </tr>\n",
              "    <tr>\n",
              "      <th>4</th>\n",
              "      <td>4</td>\n",
              "      <td>6</td>\n",
              "      <td>0</td>\n",
              "      <td>6</td>\n",
              "      <td>0</td>\n",
              "      <td>1</td>\n",
              "      <td>!!!!!!!!!!!!! RT @ShenikaRoberts: The shit you...</td>\n",
              "    </tr>\n",
              "    <tr>\n",
              "      <th>...</th>\n",
              "      <td>...</td>\n",
              "      <td>...</td>\n",
              "      <td>...</td>\n",
              "      <td>...</td>\n",
              "      <td>...</td>\n",
              "      <td>...</td>\n",
              "      <td>...</td>\n",
              "    </tr>\n",
              "    <tr>\n",
              "      <th>24778</th>\n",
              "      <td>25291</td>\n",
              "      <td>3</td>\n",
              "      <td>0</td>\n",
              "      <td>2</td>\n",
              "      <td>1</td>\n",
              "      <td>1</td>\n",
              "      <td>you's a muthaf***in lie &amp;#8220;@LifeAsKing: @2...</td>\n",
              "    </tr>\n",
              "    <tr>\n",
              "      <th>24779</th>\n",
              "      <td>25292</td>\n",
              "      <td>3</td>\n",
              "      <td>0</td>\n",
              "      <td>1</td>\n",
              "      <td>2</td>\n",
              "      <td>2</td>\n",
              "      <td>you've gone and broke the wrong heart baby, an...</td>\n",
              "    </tr>\n",
              "    <tr>\n",
              "      <th>24780</th>\n",
              "      <td>25294</td>\n",
              "      <td>3</td>\n",
              "      <td>0</td>\n",
              "      <td>3</td>\n",
              "      <td>0</td>\n",
              "      <td>1</td>\n",
              "      <td>young buck wanna eat!!.. dat nigguh like I ain...</td>\n",
              "    </tr>\n",
              "    <tr>\n",
              "      <th>24781</th>\n",
              "      <td>25295</td>\n",
              "      <td>6</td>\n",
              "      <td>0</td>\n",
              "      <td>6</td>\n",
              "      <td>0</td>\n",
              "      <td>1</td>\n",
              "      <td>youu got wild bitches tellin you lies</td>\n",
              "    </tr>\n",
              "    <tr>\n",
              "      <th>24782</th>\n",
              "      <td>25296</td>\n",
              "      <td>3</td>\n",
              "      <td>0</td>\n",
              "      <td>0</td>\n",
              "      <td>3</td>\n",
              "      <td>2</td>\n",
              "      <td>~~Ruffled | Ntac Eileen Dahlia - Beautiful col...</td>\n",
              "    </tr>\n",
              "  </tbody>\n",
              "</table>\n",
              "<p>24783 rows × 7 columns</p>\n",
              "</div>"
            ],
            "text/plain": [
              "       Unnamed: 0  ...                                              tweet\n",
              "0               0  ...  !!! RT @mayasolovely: As a woman you shouldn't...\n",
              "1               1  ...  !!!!! RT @mleew17: boy dats cold...tyga dwn ba...\n",
              "2               2  ...  !!!!!!! RT @UrKindOfBrand Dawg!!!! RT @80sbaby...\n",
              "3               3  ...  !!!!!!!!! RT @C_G_Anderson: @viva_based she lo...\n",
              "4               4  ...  !!!!!!!!!!!!! RT @ShenikaRoberts: The shit you...\n",
              "...           ...  ...                                                ...\n",
              "24778       25291  ...  you's a muthaf***in lie &#8220;@LifeAsKing: @2...\n",
              "24779       25292  ...  you've gone and broke the wrong heart baby, an...\n",
              "24780       25294  ...  young buck wanna eat!!.. dat nigguh like I ain...\n",
              "24781       25295  ...              youu got wild bitches tellin you lies\n",
              "24782       25296  ...  ~~Ruffled | Ntac Eileen Dahlia - Beautiful col...\n",
              "\n",
              "[24783 rows x 7 columns]"
            ]
          },
          "metadata": {
            "tags": []
          },
          "execution_count": 2
        }
      ]
    },
    {
      "cell_type": "code",
      "metadata": {
        "id": "7PxqPW6yCWIu"
      },
      "source": [
        "df.to_csv(\"davidson.csv\",index=False)"
      ],
      "execution_count": null,
      "outputs": []
    },
    {
      "cell_type": "code",
      "metadata": {
        "id": "wbY4JS6MxgMI"
      },
      "source": [
        "df1=df[df.offensive_language>1]\n",
        "df2=df1[df1.hate_speech>0]\n",
        "df2\n",
        "temp=df[df.offensive_language<=1]\n",
        "normal_1=temp[temp.hate_speech==0]"
      ],
      "execution_count": null,
      "outputs": []
    },
    {
      "cell_type": "code",
      "metadata": {
        "id": "BzpTHhUmtRiG",
        "colab": {
          "base_uri": "https://localhost:8080/",
          "height": 402
        },
        "outputId": "a7fc351e-c52c-4257-fd56-1d25350873c9"
      },
      "source": [
        "url='https://raw.githubusercontent.com/dhavalpotdar/cyberbullying-detection/master/data/data/data.csv'\n",
        "df_1=pd.read_csv(url,error_bad_lines=False,sep='\\t')\n",
        "df_1"
      ],
      "execution_count": null,
      "outputs": [
        {
          "output_type": "execute_result",
          "data": {
            "text/html": [
              "<div>\n",
              "<style scoped>\n",
              "    .dataframe tbody tr th:only-of-type {\n",
              "        vertical-align: middle;\n",
              "    }\n",
              "\n",
              "    .dataframe tbody tr th {\n",
              "        vertical-align: top;\n",
              "    }\n",
              "\n",
              "    .dataframe thead th {\n",
              "        text-align: right;\n",
              "    }\n",
              "</style>\n",
              "<table border=\"1\" class=\"dataframe\">\n",
              "  <thead>\n",
              "    <tr style=\"text-align: right;\">\n",
              "      <th></th>\n",
              "      <th>572340447797903360</th>\n",
              "      <th>RT @colonelkickhead: Another bloody instant restaurant week?!?! Seriously! They just jumped the shark riding two other sharks powered by sh…</th>\n",
              "      <th>none</th>\n",
              "    </tr>\n",
              "  </thead>\n",
              "  <tbody>\n",
              "    <tr>\n",
              "      <th>0</th>\n",
              "      <td>560934139403436032</td>\n",
              "      <td>@azzamalirhabi @JihadiA8 This video of the Pes...</td>\n",
              "      <td>none</td>\n",
              "    </tr>\n",
              "    <tr>\n",
              "      <th>1</th>\n",
              "      <td>575597326519042050</td>\n",
              "      <td>Oh really? No more instant restaurants? THAT'S...</td>\n",
              "      <td>none</td>\n",
              "    </tr>\n",
              "    <tr>\n",
              "      <th>2</th>\n",
              "      <td>552487055553757187</td>\n",
              "      <td>RT @Benfrancisallen: It hasn't been a good few...</td>\n",
              "      <td>none</td>\n",
              "    </tr>\n",
              "    <tr>\n",
              "      <th>3</th>\n",
              "      <td>563306298788151300</td>\n",
              "      <td>RT @NoToFeminism: I don’t need femisnsn becaus...</td>\n",
              "      <td>none</td>\n",
              "    </tr>\n",
              "    <tr>\n",
              "      <th>4</th>\n",
              "      <td>562782575656435717</td>\n",
              "      <td>@MariachiMacabre 19% is not the vast majority</td>\n",
              "      <td>none</td>\n",
              "    </tr>\n",
              "    <tr>\n",
              "      <th>...</th>\n",
              "      <td>...</td>\n",
              "      <td>...</td>\n",
              "      <td>...</td>\n",
              "    </tr>\n",
              "    <tr>\n",
              "      <th>16044</th>\n",
              "      <td>385440585462472704</td>\n",
              "      <td>RT @MyDearWormwood: \"I want equal rights, but ...</td>\n",
              "      <td>sexism</td>\n",
              "    </tr>\n",
              "    <tr>\n",
              "      <th>16045</th>\n",
              "      <td>431098754947506176</td>\n",
              "      <td>RT @alexxxarich: Go ahead and call me sexist b...</td>\n",
              "      <td>sexism</td>\n",
              "    </tr>\n",
              "    <tr>\n",
              "      <th>16046</th>\n",
              "      <td>567066348660871169</td>\n",
              "      <td>@iRTsuki i've had the epic, but i always kept ...</td>\n",
              "      <td>none</td>\n",
              "    </tr>\n",
              "    <tr>\n",
              "      <th>16047</th>\n",
              "      <td>559092716601360384</td>\n",
              "      <td>@Colonel_Shami So do you think that the Daesh ...</td>\n",
              "      <td>none</td>\n",
              "    </tr>\n",
              "    <tr>\n",
              "      <th>16048</th>\n",
              "      <td>564921657240735744</td>\n",
              "      <td>RT @infosec_Hulk: @freebsdgirl MY SKIN GREEN. ...</td>\n",
              "      <td>none</td>\n",
              "    </tr>\n",
              "  </tbody>\n",
              "</table>\n",
              "<p>16049 rows × 3 columns</p>\n",
              "</div>"
            ],
            "text/plain": [
              "       572340447797903360  ...    none\n",
              "0      560934139403436032  ...    none\n",
              "1      575597326519042050  ...    none\n",
              "2      552487055553757187  ...    none\n",
              "3      563306298788151300  ...    none\n",
              "4      562782575656435717  ...    none\n",
              "...                   ...  ...     ...\n",
              "16044  385440585462472704  ...  sexism\n",
              "16045  431098754947506176  ...  sexism\n",
              "16046  567066348660871169  ...    none\n",
              "16047  559092716601360384  ...    none\n",
              "16048  564921657240735744  ...    none\n",
              "\n",
              "[16049 rows x 3 columns]"
            ]
          },
          "metadata": {
            "tags": []
          },
          "execution_count": 4
        }
      ]
    },
    {
      "cell_type": "code",
      "metadata": {
        "id": "pvEKjZmsCvUe"
      },
      "source": [
        "df_1.to_csv(\"waseem_1.csv\",index=False)"
      ],
      "execution_count": null,
      "outputs": []
    },
    {
      "cell_type": "code",
      "metadata": {
        "id": "0Gimni4MDZ0r"
      },
      "source": [
        "df_3.to_csv(\"public_data.csv\",index=False)"
      ],
      "execution_count": null,
      "outputs": []
    },
    {
      "cell_type": "code",
      "metadata": {
        "id": "jX8CHww7yAyQ"
      },
      "source": [
        "url='https://raw.githubusercontent.com/jing-qian/A-Benchmark-Dataset-for-Learning-to-Intervene-in-Online-Hate-Speech/master/data/reddit.csv'\n",
        "df_4=pd.read_csv(url,error_bad_lines=False)\n",
        "df5=df_4\n"
      ],
      "execution_count": null,
      "outputs": []
    },
    {
      "cell_type": "code",
      "metadata": {
        "id": "qRVkUV04QN7w",
        "colab": {
          "base_uri": "https://localhost:8080/",
          "height": 402
        },
        "outputId": "acbcc168-3b2d-4cdf-a4b5-f51582efecca"
      },
      "source": [
        "df_4"
      ],
      "execution_count": null,
      "outputs": [
        {
          "output_type": "execute_result",
          "data": {
            "text/html": [
              "<div>\n",
              "<style scoped>\n",
              "    .dataframe tbody tr th:only-of-type {\n",
              "        vertical-align: middle;\n",
              "    }\n",
              "\n",
              "    .dataframe tbody tr th {\n",
              "        vertical-align: top;\n",
              "    }\n",
              "\n",
              "    .dataframe thead th {\n",
              "        text-align: right;\n",
              "    }\n",
              "</style>\n",
              "<table border=\"1\" class=\"dataframe\">\n",
              "  <thead>\n",
              "    <tr style=\"text-align: right;\">\n",
              "      <th></th>\n",
              "      <th>id</th>\n",
              "      <th>text</th>\n",
              "      <th>hate_speech_idx</th>\n",
              "      <th>response</th>\n",
              "    </tr>\n",
              "  </thead>\n",
              "  <tbody>\n",
              "    <tr>\n",
              "      <th>0</th>\n",
              "      <td>1. e8q18lf\\n2. \\te8q9w5s\\n3. \\t\\te8qbobk\\n4. \\...</td>\n",
              "      <td>1. A subsection of retarded Hungarians? Ohh bo...</td>\n",
              "      <td>[1]</td>\n",
              "      <td>[\"I don't see a reason why it's okay to insult...</td>\n",
              "    </tr>\n",
              "    <tr>\n",
              "      <th>1</th>\n",
              "      <td>1. e9c6naz\\n2. \\te9d03a5\\n3. \\t\\te9d8e4d\\n</td>\n",
              "      <td>1. &gt; \"y'all hear sumn?\"  by all means I live i...</td>\n",
              "      <td>[3]</td>\n",
              "      <td>['Persons with disabilities is the accepted te...</td>\n",
              "    </tr>\n",
              "    <tr>\n",
              "      <th>2</th>\n",
              "      <td>1. e84rl2i\\n2. \\te84w60l\\n3. \\t\\te8544rn\\n4. \\...</td>\n",
              "      <td>1. wouldn't the defenders or whatever they are...</td>\n",
              "      <td>NaN</td>\n",
              "      <td>NaN</td>\n",
              "    </tr>\n",
              "    <tr>\n",
              "      <th>3</th>\n",
              "      <td>1. e7kq72n\\n2. \\te7m24ar\\n</td>\n",
              "      <td>1. Because the Japanese aren't retarded and kn...</td>\n",
              "      <td>[1]</td>\n",
              "      <td>[\"It's not right for anyone of any gender to b...</td>\n",
              "    </tr>\n",
              "    <tr>\n",
              "      <th>4</th>\n",
              "      <td>1. e7hdgoh\\n2. \\te7iyj6a\\n3. \\t\\te7j6iho\\n4. \\...</td>\n",
              "      <td>1. That might be true if we didn't have an exa...</td>\n",
              "      <td>[2, 3]</td>\n",
              "      <td>[\"You shouldn't be bringing up sensitive topic...</td>\n",
              "    </tr>\n",
              "    <tr>\n",
              "      <th>...</th>\n",
              "      <td>...</td>\n",
              "      <td>...</td>\n",
              "      <td>...</td>\n",
              "      <td>...</td>\n",
              "    </tr>\n",
              "    <tr>\n",
              "      <th>5015</th>\n",
              "      <td>1. e90fta8\\n2. \\te90g8px\\n3. \\t\\te90jlq5\\n4. \\...</td>\n",
              "      <td>1. Who does she claim as *her people*?\\n2. \\tI...</td>\n",
              "      <td>[8]</td>\n",
              "      <td>['its inappropriate to use the word faggot as ...</td>\n",
              "    </tr>\n",
              "    <tr>\n",
              "      <th>5016</th>\n",
              "      <td>1. e9b7mn2\\n2. \\te9bv6ir\\n</td>\n",
              "      <td>1. Here's what's going to happen:  Broward is ...</td>\n",
              "      <td>NaN</td>\n",
              "      <td>NaN</td>\n",
              "    </tr>\n",
              "    <tr>\n",
              "      <th>5017</th>\n",
              "      <td>1. e7q8ilv\\n2. \\te7qddqq\\n3. \\t\\te7qstbc\\n4. \\...</td>\n",
              "      <td>1. Oh boy...so here comes a long venting post ...</td>\n",
              "      <td>[1, 4]</td>\n",
              "      <td>[\"using the word 'nigger' is a direct attack t...</td>\n",
              "    </tr>\n",
              "    <tr>\n",
              "      <th>5018</th>\n",
              "      <td>1. dwp8jut\\n</td>\n",
              "      <td>1. OP, stop being a faggot and post videos nex...</td>\n",
              "      <td>[1]</td>\n",
              "      <td>[\"using the words 'faggot fuckers' is offensiv...</td>\n",
              "    </tr>\n",
              "    <tr>\n",
              "      <th>5019</th>\n",
              "      <td>1. e76148j\\n2. \\te76uzdz\\n3. \\t\\te772r42\\n4. \\...</td>\n",
              "      <td>1. In this 20 minute long video, Top Hate and ...</td>\n",
              "      <td>[2]</td>\n",
              "      <td>[\"Using the word 'retard'  is offensive to the...</td>\n",
              "    </tr>\n",
              "  </tbody>\n",
              "</table>\n",
              "<p>5020 rows × 4 columns</p>\n",
              "</div>"
            ],
            "text/plain": [
              "                                                     id  ...                                           response\n",
              "0     1. e8q18lf\\n2. \\te8q9w5s\\n3. \\t\\te8qbobk\\n4. \\...  ...  [\"I don't see a reason why it's okay to insult...\n",
              "1            1. e9c6naz\\n2. \\te9d03a5\\n3. \\t\\te9d8e4d\\n  ...  ['Persons with disabilities is the accepted te...\n",
              "2     1. e84rl2i\\n2. \\te84w60l\\n3. \\t\\te8544rn\\n4. \\...  ...                                                NaN\n",
              "3                            1. e7kq72n\\n2. \\te7m24ar\\n  ...  [\"It's not right for anyone of any gender to b...\n",
              "4     1. e7hdgoh\\n2. \\te7iyj6a\\n3. \\t\\te7j6iho\\n4. \\...  ...  [\"You shouldn't be bringing up sensitive topic...\n",
              "...                                                 ...  ...                                                ...\n",
              "5015  1. e90fta8\\n2. \\te90g8px\\n3. \\t\\te90jlq5\\n4. \\...  ...  ['its inappropriate to use the word faggot as ...\n",
              "5016                         1. e9b7mn2\\n2. \\te9bv6ir\\n  ...                                                NaN\n",
              "5017  1. e7q8ilv\\n2. \\te7qddqq\\n3. \\t\\te7qstbc\\n4. \\...  ...  [\"using the word 'nigger' is a direct attack t...\n",
              "5018                                       1. dwp8jut\\n  ...  [\"using the words 'faggot fuckers' is offensiv...\n",
              "5019  1. e76148j\\n2. \\te76uzdz\\n3. \\t\\te772r42\\n4. \\...  ...  [\"Using the word 'retard'  is offensive to the...\n",
              "\n",
              "[5020 rows x 4 columns]"
            ]
          },
          "metadata": {
            "tags": []
          },
          "execution_count": 10
        }
      ]
    },
    {
      "cell_type": "code",
      "metadata": {
        "id": "M-QT_s7CDnn8"
      },
      "source": [
        "df_4.to_csv(\"reddit.csv\",index=False)"
      ],
      "execution_count": null,
      "outputs": []
    },
    {
      "cell_type": "code",
      "metadata": {
        "id": "iieBXL5cyeAm"
      },
      "source": [
        "url='https://raw.githubusercontent.com/jing-qian/A-Benchmark-Dataset-for-Learning-to-Intervene-in-Online-Hate-Speech/master/data/gab.csv'\n",
        "df_5=pd.read_csv(url,error_bad_lines=False)\n",
        "df6=df_5"
      ],
      "execution_count": null,
      "outputs": []
    },
    {
      "cell_type": "code",
      "metadata": {
        "id": "6mQQae9VQ-oc",
        "colab": {
          "base_uri": "https://localhost:8080/",
          "height": 402
        },
        "outputId": "39a26bde-3952-49cc-d7c6-eb8a83facbc1"
      },
      "source": [
        "df_5"
      ],
      "execution_count": null,
      "outputs": [
        {
          "output_type": "execute_result",
          "data": {
            "text/html": [
              "<div>\n",
              "<style scoped>\n",
              "    .dataframe tbody tr th:only-of-type {\n",
              "        vertical-align: middle;\n",
              "    }\n",
              "\n",
              "    .dataframe tbody tr th {\n",
              "        vertical-align: top;\n",
              "    }\n",
              "\n",
              "    .dataframe thead th {\n",
              "        text-align: right;\n",
              "    }\n",
              "</style>\n",
              "<table border=\"1\" class=\"dataframe\">\n",
              "  <thead>\n",
              "    <tr style=\"text-align: right;\">\n",
              "      <th></th>\n",
              "      <th>id</th>\n",
              "      <th>text</th>\n",
              "      <th>hate_speech_idx</th>\n",
              "      <th>response</th>\n",
              "    </tr>\n",
              "  </thead>\n",
              "  <tbody>\n",
              "    <tr>\n",
              "      <th>0</th>\n",
              "      <td>1. 39869714\\n</td>\n",
              "      <td>1. i joined gab to remind myself how retarded ...</td>\n",
              "      <td>[1]</td>\n",
              "      <td>[\"Using words that insult one group while defe...</td>\n",
              "    </tr>\n",
              "    <tr>\n",
              "      <th>1</th>\n",
              "      <td>1. 39845588\\n2. \\t39848775\\n3. \\t\\t39911017\\n</td>\n",
              "      <td>1. This is what the left is really scared of. ...</td>\n",
              "      <td>[3]</td>\n",
              "      <td>['You can disagree with someones opinion witho...</td>\n",
              "    </tr>\n",
              "    <tr>\n",
              "      <th>2</th>\n",
              "      <td>1. 37485560\\n2. \\t37528625\\n</td>\n",
              "      <td>1. It makes you an asshole.\\n2. \\tGive it to a...</td>\n",
              "      <td>[2]</td>\n",
              "      <td>['Your argument is more rational if you leave ...</td>\n",
              "    </tr>\n",
              "    <tr>\n",
              "      <th>3</th>\n",
              "      <td>1. 39787626\\n2. \\t39794481\\n</td>\n",
              "      <td>1. So they manage to provide a whole lot of da...</td>\n",
              "      <td>[2]</td>\n",
              "      <td>[\"You shouldn't generalize a specific group or...</td>\n",
              "    </tr>\n",
              "    <tr>\n",
              "      <th>4</th>\n",
              "      <td>1. 37957930\\n2. \\t39953348\\n3. \\t\\t39965219\\n</td>\n",
              "      <td>1. Hi there, i,m Keith, i hope you are doing w...</td>\n",
              "      <td>[3]</td>\n",
              "      <td>['If someone is rude it is better to ignore th...</td>\n",
              "    </tr>\n",
              "    <tr>\n",
              "      <th>...</th>\n",
              "      <td>...</td>\n",
              "      <td>...</td>\n",
              "      <td>...</td>\n",
              "      <td>...</td>\n",
              "    </tr>\n",
              "    <tr>\n",
              "      <th>11820</th>\n",
              "      <td>1. 37556347\\n2. \\t37556710\\n</td>\n",
              "      <td>1. Remember this 3 months ago? The intern that...</td>\n",
              "      <td>[2]</td>\n",
              "      <td>['Using words that profanely refer to parts of...</td>\n",
              "    </tr>\n",
              "    <tr>\n",
              "      <th>11821</th>\n",
              "      <td>1. 38624662\\n2. \\t38624840\\n</td>\n",
              "      <td>1. #Sweden's four major dailies aftonbladet.se...</td>\n",
              "      <td>[2]</td>\n",
              "      <td>['Hey there, derogatory comments are not produ...</td>\n",
              "    </tr>\n",
              "    <tr>\n",
              "      <th>11822</th>\n",
              "      <td>1. 38361617\\n2. \\t38421472\\n3. \\t\\t38422734\\n</td>\n",
              "      <td>1. Satisfaction and justice\\n2. \\tBEST TRUMP I...</td>\n",
              "      <td>[3]</td>\n",
              "      <td>['Using words that negatively describes someon...</td>\n",
              "    </tr>\n",
              "    <tr>\n",
              "      <th>11823</th>\n",
              "      <td>1. 38710847\\n2. \\t38711592\\n3. \\t\\t38718122\\n</td>\n",
              "      <td>1. Twitter BANNED me and reported me to the FB...</td>\n",
              "      <td>[2, 3]</td>\n",
              "      <td>[\"I don't think using words that are sexist in...</td>\n",
              "    </tr>\n",
              "    <tr>\n",
              "      <th>11824</th>\n",
              "      <td>1. 37951623\\n</td>\n",
              "      <td>1. How absolutely unbelievably fascinating? A ...</td>\n",
              "      <td>[1]</td>\n",
              "      <td>[\"Using words that derogatorily reference a pa...</td>\n",
              "    </tr>\n",
              "  </tbody>\n",
              "</table>\n",
              "<p>11825 rows × 4 columns</p>\n",
              "</div>"
            ],
            "text/plain": [
              "                                                  id  ...                                           response\n",
              "0                                      1. 39869714\\n  ...  [\"Using words that insult one group while defe...\n",
              "1      1. 39845588\\n2. \\t39848775\\n3. \\t\\t39911017\\n  ...  ['You can disagree with someones opinion witho...\n",
              "2                       1. 37485560\\n2. \\t37528625\\n  ...  ['Your argument is more rational if you leave ...\n",
              "3                       1. 39787626\\n2. \\t39794481\\n  ...  [\"You shouldn't generalize a specific group or...\n",
              "4      1. 37957930\\n2. \\t39953348\\n3. \\t\\t39965219\\n  ...  ['If someone is rude it is better to ignore th...\n",
              "...                                              ...  ...                                                ...\n",
              "11820                   1. 37556347\\n2. \\t37556710\\n  ...  ['Using words that profanely refer to parts of...\n",
              "11821                   1. 38624662\\n2. \\t38624840\\n  ...  ['Hey there, derogatory comments are not produ...\n",
              "11822  1. 38361617\\n2. \\t38421472\\n3. \\t\\t38422734\\n  ...  ['Using words that negatively describes someon...\n",
              "11823  1. 38710847\\n2. \\t38711592\\n3. \\t\\t38718122\\n  ...  [\"I don't think using words that are sexist in...\n",
              "11824                                  1. 37951623\\n  ...  [\"Using words that derogatorily reference a pa...\n",
              "\n",
              "[11825 rows x 4 columns]"
            ]
          },
          "metadata": {
            "tags": []
          },
          "execution_count": 12
        }
      ]
    },
    {
      "cell_type": "code",
      "metadata": {
        "id": "7FYXHmCMDx8O"
      },
      "source": [
        "df_5.to_csv(\"gab.csv\",index=False)"
      ],
      "execution_count": null,
      "outputs": []
    },
    {
      "cell_type": "code",
      "metadata": {
        "id": "5LBvhya14ong"
      },
      "source": [
        "url='https://raw.githubusercontent.com/cicl2018/HateEvalTeam/master/Data%20Files/Data%20Files/%232%20Development-English-A/train_dev_en_merged.tsv'\n",
        "df_6=pd.read_csv(url,error_bad_lines=False,sep='\\t')\n",
        "df7=df_6[df_6.HS>0]\n",
        "normal_4=df_6[df_6.HS==0]"
      ],
      "execution_count": null,
      "outputs": []
    },
    {
      "cell_type": "code",
      "metadata": {
        "id": "8MTeT9HWLJT-",
        "colab": {
          "base_uri": "https://localhost:8080/",
          "height": 402
        },
        "outputId": "ebf67adc-fb28-43b5-97d7-09b83343b124"
      },
      "source": [
        "df_6"
      ],
      "execution_count": null,
      "outputs": [
        {
          "output_type": "execute_result",
          "data": {
            "text/html": [
              "<div>\n",
              "<style scoped>\n",
              "    .dataframe tbody tr th:only-of-type {\n",
              "        vertical-align: middle;\n",
              "    }\n",
              "\n",
              "    .dataframe tbody tr th {\n",
              "        vertical-align: top;\n",
              "    }\n",
              "\n",
              "    .dataframe thead th {\n",
              "        text-align: right;\n",
              "    }\n",
              "</style>\n",
              "<table border=\"1\" class=\"dataframe\">\n",
              "  <thead>\n",
              "    <tr style=\"text-align: right;\">\n",
              "      <th></th>\n",
              "      <th>id</th>\n",
              "      <th>text</th>\n",
              "      <th>HS</th>\n",
              "      <th>TR</th>\n",
              "      <th>AG</th>\n",
              "    </tr>\n",
              "  </thead>\n",
              "  <tbody>\n",
              "    <tr>\n",
              "      <th>0</th>\n",
              "      <td>201</td>\n",
              "      <td>Hurray, saving us $$$ in so many ways @potus @...</td>\n",
              "      <td>1</td>\n",
              "      <td>0</td>\n",
              "      <td>0</td>\n",
              "    </tr>\n",
              "    <tr>\n",
              "      <th>1</th>\n",
              "      <td>202</td>\n",
              "      <td>Why would young fighting age men be the vast m...</td>\n",
              "      <td>1</td>\n",
              "      <td>0</td>\n",
              "      <td>0</td>\n",
              "    </tr>\n",
              "    <tr>\n",
              "      <th>2</th>\n",
              "      <td>203</td>\n",
              "      <td>@KamalaHarris Illegals Dump their Kids at the ...</td>\n",
              "      <td>1</td>\n",
              "      <td>0</td>\n",
              "      <td>0</td>\n",
              "    </tr>\n",
              "    <tr>\n",
              "      <th>3</th>\n",
              "      <td>204</td>\n",
              "      <td>NY Times: 'Nearly All White' States Pose 'an A...</td>\n",
              "      <td>0</td>\n",
              "      <td>0</td>\n",
              "      <td>0</td>\n",
              "    </tr>\n",
              "    <tr>\n",
              "      <th>4</th>\n",
              "      <td>205</td>\n",
              "      <td>Orban in Brussels: European leaders are ignori...</td>\n",
              "      <td>0</td>\n",
              "      <td>0</td>\n",
              "      <td>0</td>\n",
              "    </tr>\n",
              "    <tr>\n",
              "      <th>...</th>\n",
              "      <td>...</td>\n",
              "      <td>...</td>\n",
              "      <td>...</td>\n",
              "      <td>...</td>\n",
              "      <td>...</td>\n",
              "    </tr>\n",
              "    <tr>\n",
              "      <th>9995</th>\n",
              "      <td>19196</td>\n",
              "      <td>@SamEnvers you unfollowed me? Fuck you pussy</td>\n",
              "      <td>0</td>\n",
              "      <td>0</td>\n",
              "      <td>0</td>\n",
              "    </tr>\n",
              "    <tr>\n",
              "      <th>9996</th>\n",
              "      <td>19197</td>\n",
              "      <td>@DanReynolds STFU BITCH! AND YOU GO MAKE SOME ...</td>\n",
              "      <td>1</td>\n",
              "      <td>1</td>\n",
              "      <td>1</td>\n",
              "    </tr>\n",
              "    <tr>\n",
              "      <th>9997</th>\n",
              "      <td>19198</td>\n",
              "      <td>@2beornotbeing Honey, as a fellow white chick,...</td>\n",
              "      <td>0</td>\n",
              "      <td>0</td>\n",
              "      <td>0</td>\n",
              "    </tr>\n",
              "    <tr>\n",
              "      <th>9998</th>\n",
              "      <td>19199</td>\n",
              "      <td>I hate bitches who talk about niggaz with kids...</td>\n",
              "      <td>1</td>\n",
              "      <td>0</td>\n",
              "      <td>1</td>\n",
              "    </tr>\n",
              "    <tr>\n",
              "      <th>9999</th>\n",
              "      <td>19200</td>\n",
              "      <td>@AnnCoulter @DonaldJTrumpJr You won the\" life ...</td>\n",
              "      <td>1</td>\n",
              "      <td>1</td>\n",
              "      <td>0</td>\n",
              "    </tr>\n",
              "  </tbody>\n",
              "</table>\n",
              "<p>10000 rows × 5 columns</p>\n",
              "</div>"
            ],
            "text/plain": [
              "         id                                               text  HS  TR  AG\n",
              "0       201  Hurray, saving us $$$ in so many ways @potus @...   1   0   0\n",
              "1       202  Why would young fighting age men be the vast m...   1   0   0\n",
              "2       203  @KamalaHarris Illegals Dump their Kids at the ...   1   0   0\n",
              "3       204  NY Times: 'Nearly All White' States Pose 'an A...   0   0   0\n",
              "4       205  Orban in Brussels: European leaders are ignori...   0   0   0\n",
              "...     ...                                                ...  ..  ..  ..\n",
              "9995  19196       @SamEnvers you unfollowed me? Fuck you pussy   0   0   0\n",
              "9996  19197  @DanReynolds STFU BITCH! AND YOU GO MAKE SOME ...   1   1   1\n",
              "9997  19198  @2beornotbeing Honey, as a fellow white chick,...   0   0   0\n",
              "9998  19199  I hate bitches who talk about niggaz with kids...   1   0   1\n",
              "9999  19200  @AnnCoulter @DonaldJTrumpJr You won the\" life ...   1   1   0\n",
              "\n",
              "[10000 rows x 5 columns]"
            ]
          },
          "metadata": {
            "tags": []
          },
          "execution_count": 14
        }
      ]
    },
    {
      "cell_type": "code",
      "metadata": {
        "id": "70QNIWZJEAaw"
      },
      "source": [
        "df_6.to_csv(\"hateeval.csv\",index=False)"
      ],
      "execution_count": null,
      "outputs": []
    },
    {
      "cell_type": "code",
      "metadata": {
        "id": "9u8YWeJQ2PgN"
      },
      "source": [
        "import re, json, requests\n",
        "\n",
        "url = 'https://raw.githubusercontent.com/marcoguerini/CONAN/master/CONAN.json'\n",
        "\n",
        "resp = requests.get(url)\n",
        "resp_parsed = re.sub(r'^jsonp\\d+\\(|\\)\\s+$', '', resp.text)\n",
        "data = json.loads(resp_parsed)\n"
      ],
      "execution_count": null,
      "outputs": []
    },
    {
      "cell_type": "code",
      "metadata": {
        "id": "LRm_UmWA2c3E",
        "colab": {
          "base_uri": "https://localhost:8080/",
          "height": 34
        },
        "outputId": "8dbe6849-8a2f-43fb-c45f-4359518a3c0b"
      },
      "source": [
        "len(data[\"conan\"])"
      ],
      "execution_count": null,
      "outputs": [
        {
          "output_type": "execute_result",
          "data": {
            "text/plain": [
              "14988"
            ]
          },
          "metadata": {
            "tags": []
          },
          "execution_count": 16
        }
      ]
    },
    {
      "cell_type": "code",
      "metadata": {
        "id": "E2v17o-L254N"
      },
      "source": [
        "hate_speech=[]\n",
        "for i in range(len(data[\"conan\"])):\n",
        "  hate_speech.append(data[\"conan\"][i]['hateSpeech'])"
      ],
      "execution_count": null,
      "outputs": []
    },
    {
      "cell_type": "code",
      "metadata": {
        "id": "6oAsvEro4iVd",
        "colab": {
          "base_uri": "https://localhost:8080/",
          "height": 35
        },
        "outputId": "6c79111f-ae53-474a-8f2d-6335c3ea0f6f"
      },
      "source": [
        "hate_speech[100]"
      ],
      "execution_count": null,
      "outputs": [
        {
          "output_type": "execute_result",
          "data": {
            "application/vnd.google.colaboratory.intrinsic": {
              "type": "string"
            },
            "text/plain": [
              "'I am done with Islam and isis. All Muslims should be sent to their homeland. Britain will be better without their violence and ideology.'"
            ]
          },
          "metadata": {
            "tags": []
          },
          "execution_count": 18
        }
      ]
    },
    {
      "cell_type": "code",
      "metadata": {
        "id": "P3ejPvApCvQB",
        "colab": {
          "base_uri": "https://localhost:8080/",
          "height": 168
        },
        "outputId": "713f2857-2df1-4bd0-92bc-fd0f4c0568c6"
      },
      "source": [
        "data[\"conan\"][0]"
      ],
      "execution_count": null,
      "outputs": [
        {
          "output_type": "execute_result",
          "data": {
            "text/plain": [
              "{'age': 61.0,\n",
              " 'cnType': 'facts',\n",
              " 'cn_id': 'ENT1ST0001HS0033CN000021',\n",
              " 'counterSpeech': 'To be fair, the OFSTED report is more concerned with lack of enforcement and less about focussing on the practice of any particular faith.',\n",
              " 'educationLevel': 'Bachelor',\n",
              " 'gender': 'male',\n",
              " 'hateSpeech': 'According to a recent OFSTED report, a school in Birmingham is still segregating girls and boys, despite a Hight Court ruling in 2017 that this is unlawful.',\n",
              " 'hsSubType': 'crimes',\n",
              " 'hsType': 'Islamophobia'}"
            ]
          },
          "metadata": {
            "tags": []
          },
          "execution_count": 19
        }
      ]
    },
    {
      "cell_type": "code",
      "metadata": {
        "id": "M9vMAatiwdEd"
      },
      "source": [
        "racist_words=['islam','muslims','muslim','jews','niggas','nigga','gypped','Jipped','Off the reservation','slave','peanut gallery','spirit animal','uppity','grandfathered in','moron','thug','grandfather clause','gypsy','gyp','sold down the river','welfare queen','shuck and jive','long time no see','peanut gallery','abid','abeed','ali baba','bamboula','bluegum','bootlip','chink','choc-ice','chug','coolie','coon','chocolate','dink','eight ball','gypsy','hairyback','half breed','hymie','jungle bunny','niglet','nip','oreo','sambo','sheboon','sheeny','sooty','spade','turk','toad','ting tong','thicklips','tar baby','uncle tom','monkey']"
      ],
      "execution_count": null,
      "outputs": []
    },
    {
      "cell_type": "code",
      "metadata": {
        "id": "QDx_6ZUX0sC_",
        "colab": {
          "base_uri": "https://localhost:8080/",
          "height": 34
        },
        "outputId": "1daf16ad-9ba0-4bc8-8a36-9aecf11a1e31"
      },
      "source": [
        "len(racist_words)"
      ],
      "execution_count": null,
      "outputs": [
        {
          "output_type": "execute_result",
          "data": {
            "text/plain": [
              "58"
            ]
          },
          "metadata": {
            "tags": []
          },
          "execution_count": 21
        }
      ]
    },
    {
      "cell_type": "code",
      "metadata": {
        "id": "D_JKdg9503Ny"
      },
      "source": [
        "sexist_words=['mistress','hussy','governess','spinster','courtesan','wench','tart','man up','grow a pair','balls','pussy','sissy','big tits','ball buster','mannish','catty','bitchy','ice queen','shrew','banshee','fishwife','lippy','ditzy','slut','trollop','frigid','cougar','slutty','curvy','mumsy','faded beauty','frumpy','plus size','brunette','bubbly','baby weight','mummy blogger','like a girl','there she goes','bitch','hoe','hoes']"
      ],
      "execution_count": null,
      "outputs": []
    },
    {
      "cell_type": "code",
      "metadata": {
        "id": "xOWsnrPGAT18",
        "colab": {
          "base_uri": "https://localhost:8080/",
          "height": 34
        },
        "outputId": "585da79a-1771-4bb0-c94e-36258181c85a"
      },
      "source": [
        "len(sexist_words)"
      ],
      "execution_count": null,
      "outputs": [
        {
          "output_type": "execute_result",
          "data": {
            "text/plain": [
              "42"
            ]
          },
          "metadata": {
            "tags": []
          },
          "execution_count": 23
        }
      ]
    },
    {
      "cell_type": "code",
      "metadata": {
        "id": "8RiMydUFC2fM",
        "colab": {
          "base_uri": "https://localhost:8080/",
          "height": 34
        },
        "outputId": "de2eab39-3eff-4a16-9b58-5ceb375fc5a4"
      },
      "source": [
        "normal=[]\n",
        "for i in range(normal_1.shape[0]):\n",
        "  normal.append(normal_1[\"tweet\"].values[i])\n",
        "for i in range(normal_4.shape[0]):\n",
        "  normal.append(normal_4[\"text\"].values[i])\n",
        "print(len(normal))"
      ],
      "execution_count": null,
      "outputs": [
        {
          "output_type": "stream",
          "text": [
            "9683\n"
          ],
          "name": "stdout"
        }
      ]
    },
    {
      "cell_type": "code",
      "metadata": {
        "id": "4c__avccAVuL",
        "colab": {
          "base_uri": "https://localhost:8080/",
          "height": 101
        },
        "outputId": "8baafa10-84d1-435e-a336-202e25d1ee39"
      },
      "source": [
        "text=[]\n",
        "for i in range(df2.shape[0]):\n",
        "  text.append(df2[\"tweet\"].values[i])\n",
        "print(len(text))\n",
        "\n",
        "for i in range(df5.shape[0]):\n",
        "  text.append(df5[\"text\"].values[i])\n",
        "print(len(text))\n",
        "for i in range(df6.shape[0]):\n",
        "  text.append(df6[\"text\"].values[i])\n",
        "print(len(text))\n",
        "for i in range(df7.shape[0]):\n",
        "  text.append(df7[\"text\"].values[i])\n",
        "print(len(text))\n",
        "for i in range(len(hate_speech)):\n",
        "  text.append(hate_speech[i])\n",
        "print(len(text))\n"
      ],
      "execution_count": null,
      "outputs": [
        {
          "output_type": "stream",
          "text": [
            "3345\n",
            "8365\n",
            "20190\n",
            "24400\n",
            "39388\n"
          ],
          "name": "stdout"
        }
      ]
    },
    {
      "cell_type": "code",
      "metadata": {
        "id": "2ItHLWZ7SpQD"
      },
      "source": [
        "#lower case all text and slur words and find if its in the text or not \n",
        "#use n-gram to find more racist/sexist words/phrases from waseem dataset"
      ],
      "execution_count": null,
      "outputs": []
    },
    {
      "cell_type": "code",
      "metadata": {
        "id": "umOVf67HwH3E",
        "colab": {
          "base_uri": "https://localhost:8080/",
          "height": 84
        },
        "outputId": "80e07837-e387-482a-a818-ad6d58201525"
      },
      "source": [
        "text[:4]"
      ],
      "execution_count": null,
      "outputs": [
        {
          "output_type": "execute_result",
          "data": {
            "text/plain": [
              "['!!!!!!!!!!!!!!!!!!\"@T_Madison_x: The shit just blows me..claim you so faithful and down for somebody but still fucking with hoes! &#128514;&#128514;&#128514;\"',\n",
              " '\" @rhythmixx_ :hobbies include: fighting Mariam\"\\n\\nbitch',\n",
              " '\" bitch get up off me \"',\n",
              " '\" bitch who do you love \"']"
            ]
          },
          "metadata": {
            "tags": []
          },
          "execution_count": 26
        }
      ]
    },
    {
      "cell_type": "code",
      "metadata": {
        "id": "9q4LbM36UOtp"
      },
      "source": [
        "for i in range(len(text)):\n",
        "  text[i]=text[i].lower()"
      ],
      "execution_count": null,
      "outputs": []
    },
    {
      "cell_type": "code",
      "metadata": {
        "id": "v69b1r1SulDF"
      },
      "source": [
        "test_df=pd.DataFrame()\n",
        "test_df[\"text\"]=text"
      ],
      "execution_count": null,
      "outputs": []
    },
    {
      "cell_type": "code",
      "metadata": {
        "id": "RHE9qijDu0YB"
      },
      "source": [
        "import re"
      ],
      "execution_count": null,
      "outputs": []
    },
    {
      "cell_type": "code",
      "metadata": {
        "id": "_0uRFAHitoLI"
      },
      "source": [
        "def remove_URL(text):\n",
        "    \n",
        "    return re.sub(r\"https?://\\S+|www\\.\\S+\", \"\", text)\n",
        "    \n",
        "test_df['text']=test_df['text'].apply(lambda x : remove_URL(x))"
      ],
      "execution_count": null,
      "outputs": []
    },
    {
      "cell_type": "code",
      "metadata": {
        "id": "H4fSyrFvuiIq"
      },
      "source": [
        "def remove_html(text):\n",
        "    html=re.compile(r'<.*?>')\n",
        "    return html.sub(r'',text)\n",
        "test_df['text']=test_df['text'].apply(lambda x : remove_html(x))"
      ],
      "execution_count": null,
      "outputs": []
    },
    {
      "cell_type": "code",
      "metadata": {
        "id": "_NjAWz9NvAfY",
        "colab": {
          "base_uri": "https://localhost:8080/",
          "height": 34
        },
        "outputId": "331bc68b-1426-41b4-b66c-cea815ff515b"
      },
      "source": [
        "\n",
        "string=r\"#$%&'!()*+,-.:;<=>?@[\\]^_\\\"`{|}~\"\n",
        "print(string)\n",
        "def remove_punct(text):\n",
        "    table=str.maketrans('\\t',' ',string)\n",
        "    return text.translate(table)\n",
        "test_df['text']=test_df['text'].apply(lambda x : remove_punct(x))"
      ],
      "execution_count": null,
      "outputs": [
        {
          "output_type": "stream",
          "text": [
            "#$%&'!()*+,-.:;<=>?@[\\]^_\\\"`{|}~\n"
          ],
          "name": "stdout"
        }
      ]
    },
    {
      "cell_type": "code",
      "metadata": {
        "id": "_DLKa5Iuvaml",
        "colab": {
          "base_uri": "https://localhost:8080/",
          "height": 67
        },
        "outputId": "8dd24a39-aa57-4695-f1da-0bd844e59552"
      },
      "source": [
        "import nltk\n",
        "from nltk.corpus import stopwords\n",
        "nltk.download('stopwords')"
      ],
      "execution_count": null,
      "outputs": [
        {
          "output_type": "stream",
          "text": [
            "[nltk_data] Downloading package stopwords to /root/nltk_data...\n",
            "[nltk_data]   Unzipping corpora/stopwords.zip.\n"
          ],
          "name": "stdout"
        },
        {
          "output_type": "execute_result",
          "data": {
            "text/plain": [
              "True"
            ]
          },
          "metadata": {
            "tags": []
          },
          "execution_count": 34
        }
      ]
    },
    {
      "cell_type": "code",
      "metadata": {
        "id": "idjyTsSsvHMR"
      },
      "source": [
        "def fix_Plan(location):\n",
        "    letters_only = re.sub(\"[^a-zA-Z]\",  # Search for all non-letters\n",
        "                          \" \",          # Replace all non-letters with spaces\n",
        "                          str(location))     # Column and row to search    \n",
        "\n",
        "    words = letters_only.lower().split()     \n",
        "    stops = set(stopwords.words(\"english\"))      \n",
        "    meaningful_words = [w for w in words]      \n",
        "    return (\" \".join(meaningful_words))    \n",
        "\n",
        "#col_Plan = fix_Plan(df[\"text\"][0])    \n",
        "num_responses = test_df[\"text\"].size    \n",
        "clean_Plan_responses = []\n",
        "\n",
        "for i in range(0,num_responses):\n",
        "    clean_Plan_responses.append(fix_Plan(test_df[\"text\"].values[i]))"
      ],
      "execution_count": null,
      "outputs": []
    },
    {
      "cell_type": "code",
      "metadata": {
        "id": "Li4LP5O2vVZN"
      },
      "source": [
        "text1=[]\n",
        "for i in range(len(clean_Plan_responses)):\n",
        "  result = re.sub(r\"^\\s+\", \"\", clean_Plan_responses[i])\n",
        "  text1.append(re.sub(r\"\\s+$\", \"\", result))"
      ],
      "execution_count": null,
      "outputs": []
    },
    {
      "cell_type": "code",
      "metadata": {
        "id": "_c8QOwFSFeEJ"
      },
      "source": [
        "b=[]\n",
        "for j in range(len(racist_words)):\n",
        "  b.append(racist_words[j].split())\n",
        "c=[]\n",
        "for j in range(len(sexist_words)):\n",
        "  c.append(sexist_words[j].split())\n"
      ],
      "execution_count": null,
      "outputs": []
    },
    {
      "cell_type": "code",
      "metadata": {
        "id": "348XbAGLwB62"
      },
      "source": [
        "sexist_texts=[]\n",
        "for i in range(len(text1)):\n",
        "  \n",
        "  a=text1[i].split()\n",
        "  #print(a[0])\n",
        "  for k in range(len(a)):\n",
        "    for j in range(len(c)):\n",
        "      #print(a[k],b[j][0])\n",
        "      \n",
        "      if len(c[j])>1:\n",
        "        if a[k]==c[j][0] and k+len(c[j])<=len(a):\n",
        "          #print(len(c[j]))\n",
        "          temp=k\n",
        "          for m,l in zip(range(temp,temp+len(c[j])),range((len(c[j])))):\n",
        "            #print(i,k,m,l,j)\n",
        "            count=0\n",
        "            if a[m]==c[j][l]:\n",
        "              count=count+1\n",
        "          if count==len(c[j]):\n",
        "            sexist_texts.append(text1[i])  \n",
        "          break\n",
        "\n",
        "      else:\n",
        "        if a[k]==c[j][0]:\n",
        "          sexist_texts.append(text1[i])  \n",
        "          break\n",
        "      "
      ],
      "execution_count": null,
      "outputs": []
    },
    {
      "cell_type": "code",
      "metadata": {
        "id": "64DRo8Ch7i9h"
      },
      "source": [
        "racist_texts=[]\n",
        "for i in range(len(text1)):\n",
        "  \n",
        "  a=text1[i].split()\n",
        "  #print(a[0])\n",
        "  for k in range(len(a)):\n",
        "    for j in range(len(b)):\n",
        "      #print(a[k],b[j][0])\n",
        "      \n",
        "      if len(b[j])>1:\n",
        "        if a[k]==b[j][0] and k+len(b[j])<=len(a):\n",
        "          #print(len(c[j]))\n",
        "          temp=k\n",
        "          for m,l in zip(range(temp,temp+len(b[j])),range((len(b[j])))):\n",
        "            #print(i,k,m,l,j)\n",
        "            count=0\n",
        "            if a[m]==b[j][l]:\n",
        "              count=count+1\n",
        "          if count==len(b[j]):\n",
        "            racist_texts.append(text1[i])  \n",
        "          break\n",
        "\n",
        "      else:\n",
        "        if a[k]==b[j][0]:\n",
        "          racist_texts.append(text1[i])  \n",
        "          break\n",
        "      "
      ],
      "execution_count": null,
      "outputs": []
    },
    {
      "cell_type": "code",
      "metadata": {
        "id": "iedxKeeb67tC",
        "colab": {
          "base_uri": "https://localhost:8080/",
          "height": 34
        },
        "outputId": "88ac5a05-c1aa-4ca4-fb92-6a9b00e545f6"
      },
      "source": [
        "len(racist_texts)"
      ],
      "execution_count": null,
      "outputs": [
        {
          "output_type": "execute_result",
          "data": {
            "text/plain": [
              "11101"
            ]
          },
          "metadata": {
            "tags": []
          },
          "execution_count": 39
        }
      ]
    },
    {
      "cell_type": "code",
      "metadata": {
        "id": "fsBx_qjv5GGW",
        "colab": {
          "base_uri": "https://localhost:8080/",
          "height": 890
        },
        "outputId": "2f5d75a9-21a8-42a8-ef96-9ceb3e59fc3d"
      },
      "source": [
        "for i in range(len(racist_texts)):\n",
        "  words=racist_texts[i].split()\n",
        "  if len(words)==5969:\n",
        "    print(len(words),i)"
      ],
      "execution_count": null,
      "outputs": [
        {
          "output_type": "stream",
          "text": [
            "5969 1020\n",
            "5969 1021\n",
            "5969 1022\n",
            "5969 1023\n",
            "5969 1024\n",
            "5969 1025\n",
            "5969 1026\n",
            "5969 1027\n",
            "5969 1028\n",
            "5969 1029\n",
            "5969 1030\n",
            "5969 1031\n",
            "5969 1032\n",
            "5969 1033\n",
            "5969 1034\n",
            "5969 1035\n",
            "5969 1036\n",
            "5969 1037\n",
            "5969 1038\n",
            "5969 1039\n",
            "5969 1040\n",
            "5969 1041\n",
            "5969 1042\n",
            "5969 1043\n",
            "5969 1044\n",
            "5969 1045\n",
            "5969 1046\n",
            "5969 1047\n",
            "5969 1048\n",
            "5969 1049\n",
            "5969 1050\n",
            "5969 1051\n",
            "5969 1052\n",
            "5969 1053\n",
            "5969 1054\n",
            "5969 1055\n",
            "5969 1056\n",
            "5969 1057\n",
            "5969 1058\n",
            "5969 1059\n",
            "5969 1060\n",
            "5969 1061\n",
            "5969 1062\n",
            "5969 1063\n",
            "5969 1064\n",
            "5969 1065\n",
            "5969 1066\n",
            "5969 1067\n",
            "5969 1068\n",
            "5969 1069\n",
            "5969 1070\n",
            "5969 1071\n"
          ],
          "name": "stdout"
        }
      ]
    },
    {
      "cell_type": "code",
      "metadata": {
        "id": "BRSWNLIW5j2P",
        "colab": {
          "base_uri": "https://localhost:8080/",
          "height": 54
        },
        "outputId": "a5593549-9830-4dde-f56d-e4457418a542"
      },
      "source": [
        "print(racist_texts[963])"
      ],
      "execution_count": null,
      "outputs": [
        {
          "output_type": "stream",
          "text": [
            "how can anyone be an environmentalist years ago what exactly were they doing to be an environmentalist picking up swords from the battlefield its not like there was an overfishing issue or heavy industry or plastic womens rights years ago was he the stalin of his day giving women the right to work all those women in the office selling short sword insurance running through the land forcing his religion on people and foreigners taking slaves and raping that actually sounds pretty close to a sjw actually ill give him that muhammads main claim to believing in womens rights was saying that women deserve half of what men do when it came to inheritance not like most people thought at the time his main feminist claim was calling them half a person i mean thats not bad for centuries ago the problem is islam is not a religion that changes its words ever the words written by the prophet muhammad are the absolute final words of allah himself and allah was very very clear of that so centuries ago they may have been very forward thinking but the religion is absolutely locked in to the words of centuries ago so when allah said women are worth half of a man centuries ago theyre going to be worth half of a man until the heat death of the universe this is false some of the most drastic changes any religion has ever over gone culturally took place in islam following the umayyad dynasty ce and even that religion is nothing like modern islam this opinion of your stems from complete and utter ignorance veiling one of the most identifiable part of islam today wasnt even a critical part of the religion less than years ago and pointing out that the five pillars doesnt do a whole lot to prove your point judaism has almost the exact same thing so why isnt that a problem the problem with islam isnt that it hasnt changed its that its changed in a negative way for the male what is equal to the share of two females surah nisa and literally lines later in case you were thinking of giving women more and whoever disobeys allah and his messenger and transgresses his limits he will put him into the fire to abide eternally therein and he will have a humiliating punishment surah nisa im pretty sure the quran is pretty damn certain that a woman gets half of what a man gets forever its right there in the ink because of the first pillar of islam this does not change it can not change because to change it would be going against muhammad and the will of allah in this way islam is not a religion that changes its not ignorance when im directly quoting the word of allah ignorance would be not knowing or following allahs word youre such a retard if this religion cant change then explain to me why veiling came to be explain to me why there is a distinct cultural difference between sunni and shia islam on top of distinct cultural differences between islam from the umayyad and abbasid dynasties as well as everything following that also explain to me why sufism is an entirely different sect of islam that is centered around aligning closer to muhammads original message rather than the corrupt version that the umayyads turned it into you saying that islam has never changed is completely denying that sufism exists as well denying that over years of history exists im not saying that islam is good in anyway im just pointing out that you saying islam cant change is completely unfounded and bullshit this isnt something thats proved by the word of allah or some other bullshit like that but by actual written history you cant argue with written history retard but then again you probably have no idea what sufism is or that there were islamic dynasties in the first place so i can really only blame myself for getting angry at your ignorance edit but youre so wrapped up in wanting to shit talk islam like every other retard on this sub that you have to make it about equality instead of what im actually talking about we get it islam fucking blows shut the fuck up it seems were having a bit of a communication error here ironic because were discussing islam i wasnt specific in my original post because i didnt think i was going to get into such a longwinded debate my language was too broad what i meant by my original posts is that the texts and pillars that islam is based on are the absolute word of allah and will never change the interpretation of those texts certainly may which leads to splits such as those in sunni shia and sufism for instance surah annur says that women must cover themselves but the extent at which they cover themselves is up for interpretation when the word of allah says to do something that word cannot change whereas in other abrahamic faiths it can an example is the entire book of leviticus in christianity becoming absolutely null and void over time this would never happen in the islamic faith because the entirety of the quran the absolute true word and will of allah in this way islam when compared to other faiths does not change because its foundations leave far less room for interpretation sorry for the communication problem but this isnt what ends up happening in practice the majority of muslims arent following the quran word for word similar to most other christians while there are a larger majority of traditional muslims compared to traditional christians but i would argue that this is mostly due to the region rather than their holy book being the direct word of god because looking at jews and hindus surrounding the islamic world that entire region is traditional and i cant see this being a huge barrier in social progress because it other religions it hasnt been at most it will slow islam down by years and i think its arguable that were in that year transition period right now however i still do now understand and recognize your view of this i really need to go do homework now ironically its about islam so im going to end off here sorry for the rocky start and misunderstandings the whole gaslit agenda being spewed about muslims is such a joke gaslit retard nice edit faggot woah there next time please refrain from using that horribly bigoted term instead please use the universally accepted haikutaqutio thank you for your understanding i am a bot and this action was performed automatically please contact the moderators of this subreddit message compose to r imgoingtohellforthis if you have any questions or concerns reeeeee stop hitting yourself slam i am a bot and this action was performed automatically please contact the moderators of this subreddit message compose to r imgoingtohellforthis if you have any questions or concerns what you gonna do about it nothing as i never said i was going to do anything about it retard\n"
          ],
          "name": "stdout"
        }
      ]
    },
    {
      "cell_type": "code",
      "metadata": {
        "id": "Vy3AIra_-0gE",
        "colab": {
          "base_uri": "https://localhost:8080/",
          "height": 195
        },
        "outputId": "24bd49f2-c109-49e6-e6b8-dce5088e208a"
      },
      "source": [
        "df_1=df_1.rename(columns={\"572340447797903360\":\"index\",\"RT @colonelkickhead: Another bloody instant restaurant week?!?! Seriously! They just jumped the shark riding two other sharks powered by sh…\":\"text\",\"none\":\"hate\"})\n",
        "df_1.head()"
      ],
      "execution_count": null,
      "outputs": [
        {
          "output_type": "execute_result",
          "data": {
            "text/html": [
              "<div>\n",
              "<style scoped>\n",
              "    .dataframe tbody tr th:only-of-type {\n",
              "        vertical-align: middle;\n",
              "    }\n",
              "\n",
              "    .dataframe tbody tr th {\n",
              "        vertical-align: top;\n",
              "    }\n",
              "\n",
              "    .dataframe thead th {\n",
              "        text-align: right;\n",
              "    }\n",
              "</style>\n",
              "<table border=\"1\" class=\"dataframe\">\n",
              "  <thead>\n",
              "    <tr style=\"text-align: right;\">\n",
              "      <th></th>\n",
              "      <th>index</th>\n",
              "      <th>text</th>\n",
              "      <th>hate</th>\n",
              "    </tr>\n",
              "  </thead>\n",
              "  <tbody>\n",
              "    <tr>\n",
              "      <th>0</th>\n",
              "      <td>560934139403436032</td>\n",
              "      <td>@azzamalirhabi @JihadiA8 This video of the Pes...</td>\n",
              "      <td>none</td>\n",
              "    </tr>\n",
              "    <tr>\n",
              "      <th>1</th>\n",
              "      <td>575597326519042050</td>\n",
              "      <td>Oh really? No more instant restaurants? THAT'S...</td>\n",
              "      <td>none</td>\n",
              "    </tr>\n",
              "    <tr>\n",
              "      <th>2</th>\n",
              "      <td>552487055553757187</td>\n",
              "      <td>RT @Benfrancisallen: It hasn't been a good few...</td>\n",
              "      <td>none</td>\n",
              "    </tr>\n",
              "    <tr>\n",
              "      <th>3</th>\n",
              "      <td>563306298788151300</td>\n",
              "      <td>RT @NoToFeminism: I don’t need femisnsn becaus...</td>\n",
              "      <td>none</td>\n",
              "    </tr>\n",
              "    <tr>\n",
              "      <th>4</th>\n",
              "      <td>562782575656435717</td>\n",
              "      <td>@MariachiMacabre 19% is not the vast majority</td>\n",
              "      <td>none</td>\n",
              "    </tr>\n",
              "  </tbody>\n",
              "</table>\n",
              "</div>"
            ],
            "text/plain": [
              "                index                                               text  hate\n",
              "0  560934139403436032  @azzamalirhabi @JihadiA8 This video of the Pes...  none\n",
              "1  575597326519042050  Oh really? No more instant restaurants? THAT'S...  none\n",
              "2  552487055553757187  RT @Benfrancisallen: It hasn't been a good few...  none\n",
              "3  563306298788151300  RT @NoToFeminism: I don’t need femisnsn becaus...  none\n",
              "4  562782575656435717      @MariachiMacabre 19% is not the vast majority  none"
            ]
          },
          "metadata": {
            "tags": []
          },
          "execution_count": 52
        }
      ]
    },
    {
      "cell_type": "code",
      "metadata": {
        "id": "nMm5-Wb8UF4V",
        "colab": {
          "base_uri": "https://localhost:8080/",
          "height": 35
        },
        "outputId": "25ef0f7f-15e8-46a1-a1b9-04ba6703e4d7"
      },
      "source": [
        "df_1[\"text\"].values[0]"
      ],
      "execution_count": null,
      "outputs": [
        {
          "output_type": "execute_result",
          "data": {
            "application/vnd.google.colaboratory.intrinsic": {
              "type": "string"
            },
            "text/plain": [
              "'@azzamalirhabi @JihadiA8 This video of the Peshmerga decimating ISIS is far more interesting. https://t.co/d36g1z12NP'"
            ]
          },
          "metadata": {
            "tags": []
          },
          "execution_count": 53
        }
      ]
    },
    {
      "cell_type": "code",
      "metadata": {
        "id": "JcbaWEBBFP0S"
      },
      "source": [
        "def remove_URL(text):\n",
        "    \n",
        "    return re.sub(r\"https?://\\S+|www\\.\\S+\", \"\", text)\n",
        "    \n",
        "df_1['text']=df_1['text'].apply(lambda x : remove_URL(x))\n",
        "def remove_html(text):\n",
        "    html=re.compile(r'<.*?>')\n",
        "    return html.sub(r'',text)\n",
        "df_1['text']=df_1['text'].apply(lambda x : remove_html(x))\n",
        "def fix_Plan(location):\n",
        "    letters_only = re.sub(\"[^a-zA-Z]\",  # Search for all non-letters\n",
        "                          \" \",          # Replace all non-letters with spaces\n",
        "                          str(location))     # Column and row to search    \n",
        "\n",
        "    words = letters_only.lower().split()     \n",
        "    stops = set(stopwords.words(\"english\"))      \n",
        "    meaningful_words = [w for w in words]      \n",
        "    return (\" \".join(meaningful_words))    \n",
        "\n",
        "#col_Plan = fix_Plan(df[\"text\"][0])    \n",
        "num_responses = df_1[\"text\"].size    \n",
        "clean_Plan_responses = []\n",
        "\n",
        "for i in range(0,num_responses):\n",
        "    clean_Plan_responses.append(fix_Plan(df_1[\"text\"].values[i]))\n",
        "text2=[]\n",
        "for i in range(len(clean_Plan_responses)):\n",
        "  result = re.sub(r\"^\\s+\", \"\", clean_Plan_responses[i])\n",
        "  text2.append(re.sub(r\"\\s+$\", \"\", result))"
      ],
      "execution_count": null,
      "outputs": []
    },
    {
      "cell_type": "code",
      "metadata": {
        "id": "G-uk_5VGDoLq",
        "colab": {
          "base_uri": "https://localhost:8080/",
          "height": 195
        },
        "outputId": "2e61a375-4770-480a-ba15-44a8ea619d96"
      },
      "source": [
        "df_1[\"text\"]=text2\n",
        "df_1.head()"
      ],
      "execution_count": null,
      "outputs": [
        {
          "output_type": "execute_result",
          "data": {
            "text/html": [
              "<div>\n",
              "<style scoped>\n",
              "    .dataframe tbody tr th:only-of-type {\n",
              "        vertical-align: middle;\n",
              "    }\n",
              "\n",
              "    .dataframe tbody tr th {\n",
              "        vertical-align: top;\n",
              "    }\n",
              "\n",
              "    .dataframe thead th {\n",
              "        text-align: right;\n",
              "    }\n",
              "</style>\n",
              "<table border=\"1\" class=\"dataframe\">\n",
              "  <thead>\n",
              "    <tr style=\"text-align: right;\">\n",
              "      <th></th>\n",
              "      <th>index</th>\n",
              "      <th>text</th>\n",
              "      <th>hate</th>\n",
              "    </tr>\n",
              "  </thead>\n",
              "  <tbody>\n",
              "    <tr>\n",
              "      <th>0</th>\n",
              "      <td>560934139403436032</td>\n",
              "      <td>azzamalirhabi jihadia this video of the peshme...</td>\n",
              "      <td>none</td>\n",
              "    </tr>\n",
              "    <tr>\n",
              "      <th>1</th>\n",
              "      <td>575597326519042050</td>\n",
              "      <td>oh really no more instant restaurants that s s...</td>\n",
              "      <td>none</td>\n",
              "    </tr>\n",
              "    <tr>\n",
              "      <th>2</th>\n",
              "      <td>552487055553757187</td>\n",
              "      <td>rt benfrancisallen it hasn t been a good few w...</td>\n",
              "      <td>none</td>\n",
              "    </tr>\n",
              "    <tr>\n",
              "      <th>3</th>\n",
              "      <td>563306298788151300</td>\n",
              "      <td>rt notofeminism i don t need femisnsn because ...</td>\n",
              "      <td>none</td>\n",
              "    </tr>\n",
              "    <tr>\n",
              "      <th>4</th>\n",
              "      <td>562782575656435717</td>\n",
              "      <td>mariachimacabre is not the vast majority</td>\n",
              "      <td>none</td>\n",
              "    </tr>\n",
              "  </tbody>\n",
              "</table>\n",
              "</div>"
            ],
            "text/plain": [
              "                index                                               text  hate\n",
              "0  560934139403436032  azzamalirhabi jihadia this video of the peshme...  none\n",
              "1  575597326519042050  oh really no more instant restaurants that s s...  none\n",
              "2  552487055553757187  rt benfrancisallen it hasn t been a good few w...  none\n",
              "3  563306298788151300  rt notofeminism i don t need femisnsn because ...  none\n",
              "4  562782575656435717           mariachimacabre is not the vast majority  none"
            ]
          },
          "metadata": {
            "tags": []
          },
          "execution_count": 55
        }
      ]
    },
    {
      "cell_type": "code",
      "metadata": {
        "id": "NYkhi7zgA5pO",
        "colab": {
          "base_uri": "https://localhost:8080/",
          "height": 84
        },
        "outputId": "312a7248-a3f6-4c67-bea2-09079a5469e1"
      },
      "source": [
        "df_1[df_1[\"hate\"]==\"racism\"].count()"
      ],
      "execution_count": null,
      "outputs": [
        {
          "output_type": "execute_result",
          "data": {
            "text/plain": [
              "index    1932\n",
              "text     1932\n",
              "hate     1932\n",
              "dtype: int64"
            ]
          },
          "metadata": {
            "tags": []
          },
          "execution_count": 56
        }
      ]
    },
    {
      "cell_type": "code",
      "metadata": {
        "id": "0kSPxIDB1fAr"
      },
      "source": [
        "from collections import defaultdict\n",
        "stop=set(stopwords.words('english'))\n",
        "def generate_ngrams(text, n_gram=1):\n",
        "    token = [token for token in text.lower().split(' ') if token != '' if token not in stop]\n",
        "    ngrams = zip(*[token[i:] for i in range(n_gram)])\n",
        "    return [' '.join(ngram) for ngram in ngrams]\n",
        "\n",
        "N = 50\n",
        "\n",
        "# Unigrams\n",
        "racist_unigrams = defaultdict(int)\n",
        "sexist_unigrams = defaultdict(int)\n",
        "\n",
        "\n",
        "for tweet in df_1[df_1.hate==\"racism\"]['text']:\n",
        "    for word in generate_ngrams(tweet):\n",
        "        racist_unigrams[word] += 1\n",
        "        \n",
        "        \n",
        "for tweet in df_1[df_1.hate==\"sexism\"]['text']:\n",
        "    for word in generate_ngrams(tweet):\n",
        "        sexist_unigrams[word] += 1\n",
        "\n",
        "\n",
        "        \n",
        "df_positive_unigrams = pd.DataFrame(sorted(racist_unigrams.items(), key=lambda x: x[1])[::-1])\n",
        "df_negative_unigrams = pd.DataFrame(sorted(sexist_unigrams.items(), key=lambda x: x[1])[::-1])\n",
        "\n",
        "\n",
        "# Bigrams\n",
        "racist_bigrams = defaultdict(int)\n",
        "sexist_bigrams = defaultdict(int)\n",
        "\n",
        "\n",
        "for tweet in df_1[df_1.hate==\"racism\"]['text']:\n",
        "    for word in generate_ngrams(tweet,n_gram=2):\n",
        "        racist_bigrams[word] += 1\n",
        "        \n",
        "for tweet in df_1[df_1.hate==\"sexism\"]['text']:\n",
        "    for word in generate_ngrams(tweet,n_gram=2):\n",
        "        sexist_bigrams[word] += 1\n",
        "\n",
        "\n",
        "        \n",
        "df_positive_bigrams = pd.DataFrame(sorted(racist_bigrams.items(), key=lambda x: x[1])[::-1])\n",
        "df_negative_bigrams = pd.DataFrame(sorted(sexist_bigrams.items(), key=lambda x: x[1])[::-1])\n",
        "\n",
        "\n",
        "\n",
        "# Trigrams\n",
        "positive_trigrams = defaultdict(int)\n",
        "negative_trigrams = defaultdict(int)\n",
        "\n",
        "\n",
        "for tweet in df_1[df_1.hate==\"racism\"]['text']:\n",
        "    for word in generate_ngrams(tweet,n_gram=3):\n",
        "        positive_trigrams[word] += 1\n",
        "        \n",
        "for tweet in df_1[df_1.hate==\"sexism\"]['text']:\n",
        "    for word in generate_ngrams(tweet,n_gram=3):\n",
        "        negative_trigrams[word] += 1\n",
        "\n",
        "\n",
        "        \n",
        "df_positive_trigrams = pd.DataFrame(sorted(positive_trigrams.items(), key=lambda x: x[1])[::-1])\n",
        "df_negative_trigrams = pd.DataFrame(sorted(negative_trigrams.items(), key=lambda x: x[1])[::-1])\n",
        "\n"
      ],
      "execution_count": null,
      "outputs": []
    },
    {
      "cell_type": "code",
      "metadata": {
        "id": "AjlvlTP_B-LL",
        "colab": {
          "base_uri": "https://localhost:8080/",
          "height": 1000
        },
        "outputId": "49d776d9-1bff-4e31-bf93-869bc762bac7"
      },
      "source": [
        "import seaborn as sns\n",
        "import matplotlib.pyplot as plt\n",
        "fig, axes = plt.subplots(ncols=2, figsize=(18, 50), dpi=100)\n",
        "plt.tight_layout()\n",
        "\n",
        "sns.barplot(y=df_positive_bigrams[0].values[:N], x=df_positive_bigrams[1].values[:N], ax=axes[0], color='red')\n",
        "sns.barplot(y=df_negative_bigrams[0].values[:N], x=df_negative_bigrams[1].values[:N], ax=axes[1], color='green')\n",
        "\n",
        "\n",
        "for i in range(2):\n",
        "    axes[i].spines['right'].set_visible(False)\n",
        "    axes[i].set_xlabel('')\n",
        "    axes[i].set_ylabel('')\n",
        "    axes[i].tick_params(axis='x', labelsize=13)\n",
        "    axes[i].tick_params(axis='y', labelsize=13)\n",
        "\n",
        "axes[0].set_title(f'Top {N} most common unigrams in Positive Tweets', fontsize=15)\n",
        "axes[1].set_title(f'Top {N} most common unigrams in Negative Tweets', fontsize=15)\n",
        "\n",
        "\n",
        "plt.show()"
      ],
      "execution_count": null,
      "outputs": [
        {
          "output_type": "stream",
          "text": [
            "/usr/local/lib/python3.6/dist-packages/statsmodels/tools/_testing.py:19: FutureWarning: pandas.util.testing is deprecated. Use the functions in the public API at pandas.testing instead.\n",
            "  import pandas.util.testing as tm\n"
          ],
          "name": "stderr"
        },
        {
          "output_type": "display_data",
          "data": {
            "image/png": "[encoded data removed]",
            "text/plain": [
              "<Figure size 1800x5000 with 2 Axes>"
            ]
          },
          "metadata": {
            "tags": [],
            "needs_background": "light"
          }
        }
      ]
    },
    {
      "cell_type": "code",
      "metadata": {
        "id": "wvXmgwZmTS2f",
        "colab": {
          "base_uri": "https://localhost:8080/",
          "height": 34
        },
        "outputId": "eeb2384c-3288-40c1-c20d-82c4beca9a62"
      },
      "source": [
        "print(len(normal),len(racist_texts),len(sexist_texts))"
      ],
      "execution_count": null,
      "outputs": [
        {
          "output_type": "stream",
          "text": [
            "22622 13033 8354\n"
          ],
          "name": "stdout"
        }
      ]
    },
    {
      "cell_type": "code",
      "metadata": {
        "id": "kTa_1MqlEFsl",
        "colab": {
          "base_uri": "https://localhost:8080/",
          "height": 34
        },
        "outputId": "f3fa77e4-6be0-4e06-d40c-3978600e2294"
      },
      "source": [
        "#count=0\n",
        "for i in range(df_1.shape[0]):\n",
        "  if df_1[\"hate\"].values[i]==\"racism\":\n",
        "    #count=count+1\n",
        "    racist_texts.append(df_1[\"text\"].values[i])\n",
        "  if df_1[\"hate\"].values[i]==\"sexism\":\n",
        "    sexist_texts.append(df_1[\"text\"].values[i])\n",
        "  else:\n",
        "    normal.append(df_1[\"text\"].values[i])\n",
        "print(len(racist_texts))"
      ],
      "execution_count": null,
      "outputs": [
        {
          "output_type": "stream",
          "text": [
            "13033\n"
          ],
          "name": "stdout"
        }
      ]
    },
    {
      "cell_type": "code",
      "metadata": {
        "id": "e-3vvkGCEskQ"
      },
      "source": [
        "racist_df=pd.DataFrame()\n",
        "sexist_df=pd.DataFrame()\n",
        "racist_df[\"text\"]=list(str(i) for i in range(len(normal)+len(racist_texts)))\n",
        "racist_df[\"hate\"]=list(str(i) for i in range(len(normal)+len(racist_texts)))\n",
        "sexist_df[\"text\"]=list(str(i) for i in range(len(normal)+len(sexist_texts)))\n",
        "sexist_df[\"hate\"]=list(str(i) for i in range(len(normal)+len(sexist_texts)))"
      ],
      "execution_count": null,
      "outputs": []
    },
    {
      "cell_type": "code",
      "metadata": {
        "id": "R6nEWq6_Na4r"
      },
      "source": [
        "for i in range(racist_df.shape[0]):\n",
        "  if i<len(normal):\n",
        "    racist_df[\"text\"].values[i]=normal[i]\n",
        "    racist_df[\"hate\"].values[i]=\"none\"\n",
        "  else:\n",
        "    racist_df[\"text\"].values[i]=racist_texts[i-len(normal)]\n",
        "    racist_df[\"hate\"].values[i]=\"racism\"\n",
        "\n",
        "for i in range(sexist_df.shape[0]):\n",
        "  if i<len(normal):\n",
        "    sexist_df[\"text\"].values[i]=normal[i]\n",
        "    sexist_df[\"hate\"].values[i]=\"none\"\n",
        "  else:\n",
        "    sexist_df[\"text\"].values[i]=sexist_texts[i-len(normal)]\n",
        "    sexist_df[\"hate\"].values[i]=\"sexism\""
      ],
      "execution_count": null,
      "outputs": []
    },
    {
      "cell_type": "code",
      "metadata": {
        "id": "-S_a4Nw-Ox_T"
      },
      "source": [
        "racist_df.to_csv(\"racist.csv\",index=False)"
      ],
      "execution_count": null,
      "outputs": []
    },
    {
      "cell_type": "code",
      "metadata": {
        "id": "lOZ38KsdQYGF"
      },
      "source": [
        "sexist_df.to_csv(\"sexist.csv\",index=False)"
      ],
      "execution_count": null,
      "outputs": []
    },
    {
      "cell_type": "code",
      "metadata": {
        "id": "pBcDLnjfRNXe",
        "colab": {
          "base_uri": "https://localhost:8080/",
          "height": 402
        },
        "outputId": "0118c407-8812-4b1d-a485-e020d7951d78"
      },
      "source": [
        "racist_df"
      ],
      "execution_count": null,
      "outputs": [
        {
          "output_type": "execute_result",
          "data": {
            "text/html": [
              "<div>\n",
              "<style scoped>\n",
              "    .dataframe tbody tr th:only-of-type {\n",
              "        vertical-align: middle;\n",
              "    }\n",
              "\n",
              "    .dataframe tbody tr th {\n",
              "        vertical-align: top;\n",
              "    }\n",
              "\n",
              "    .dataframe thead th {\n",
              "        text-align: right;\n",
              "    }\n",
              "</style>\n",
              "<table border=\"1\" class=\"dataframe\">\n",
              "  <thead>\n",
              "    <tr style=\"text-align: right;\">\n",
              "      <th></th>\n",
              "      <th>text</th>\n",
              "      <th>hate</th>\n",
              "    </tr>\n",
              "  </thead>\n",
              "  <tbody>\n",
              "    <tr>\n",
              "      <th>0</th>\n",
              "      <td>!!! RT @mayasolovely: As a woman you shouldn't...</td>\n",
              "      <td>none</td>\n",
              "    </tr>\n",
              "    <tr>\n",
              "      <th>1</th>\n",
              "      <td>\" momma said no pussy cats inside my doghouse \"</td>\n",
              "      <td>none</td>\n",
              "    </tr>\n",
              "    <tr>\n",
              "      <th>2</th>\n",
              "      <td>\"@Addicted2Guys: -SimplyAddictedToGuys http://...</td>\n",
              "      <td>none</td>\n",
              "    </tr>\n",
              "    <tr>\n",
              "      <th>3</th>\n",
              "      <td>\"@AllAboutManFeet: http://t.co/3gzUpfuMev\" woo...</td>\n",
              "      <td>none</td>\n",
              "    </tr>\n",
              "    <tr>\n",
              "      <th>4</th>\n",
              "      <td>\"@Allyhaaaaa: Lemmie eat a Oreo &amp;amp; do these...</td>\n",
              "      <td>none</td>\n",
              "    </tr>\n",
              "    <tr>\n",
              "      <th>...</th>\n",
              "      <td>...</td>\n",
              "      <td>...</td>\n",
              "    </tr>\n",
              "    <tr>\n",
              "      <th>35650</th>\n",
              "      <td>semzyxx nainfidels owais there is nothing in t...</td>\n",
              "      <td>racism</td>\n",
              "    </tr>\n",
              "    <tr>\n",
              "      <th>35651</th>\n",
              "      <td>dawlatnamansura the ground drone will be bulle...</td>\n",
              "      <td>racism</td>\n",
              "    </tr>\n",
              "    <tr>\n",
              "      <th>35652</th>\n",
              "      <td>sirajzarook bilalighumman odiniainvictus israe...</td>\n",
              "      <td>racism</td>\n",
              "    </tr>\n",
              "    <tr>\n",
              "      <th>35653</th>\n",
              "      <td>islam libya islamrevlution bintstranger islam ...</td>\n",
              "      <td>racism</td>\n",
              "    </tr>\n",
              "    <tr>\n",
              "      <th>35654</th>\n",
              "      <td>presstv like every muslim country they find mo...</td>\n",
              "      <td>racism</td>\n",
              "    </tr>\n",
              "  </tbody>\n",
              "</table>\n",
              "<p>35655 rows × 2 columns</p>\n",
              "</div>"
            ],
            "text/plain": [
              "                                                    text    hate\n",
              "0      !!! RT @mayasolovely: As a woman you shouldn't...    none\n",
              "1        \" momma said no pussy cats inside my doghouse \"    none\n",
              "2      \"@Addicted2Guys: -SimplyAddictedToGuys http://...    none\n",
              "3      \"@AllAboutManFeet: http://t.co/3gzUpfuMev\" woo...    none\n",
              "4      \"@Allyhaaaaa: Lemmie eat a Oreo &amp; do these...    none\n",
              "...                                                  ...     ...\n",
              "35650  semzyxx nainfidels owais there is nothing in t...  racism\n",
              "35651  dawlatnamansura the ground drone will be bulle...  racism\n",
              "35652  sirajzarook bilalighumman odiniainvictus israe...  racism\n",
              "35653  islam libya islamrevlution bintstranger islam ...  racism\n",
              "35654  presstv like every muslim country they find mo...  racism\n",
              "\n",
              "[35655 rows x 2 columns]"
            ]
          },
          "metadata": {
            "tags": []
          },
          "execution_count": 65
        }
      ]
    },
    {
      "cell_type": "code",
      "metadata": {
        "id": "3Pb07GbER5E_",
        "colab": {
          "base_uri": "https://localhost:8080/",
          "height": 402
        },
        "outputId": "44827727-770f-4932-f613-66ffc39aad69"
      },
      "source": [
        "sexist_df"
      ],
      "execution_count": null,
      "outputs": [
        {
          "output_type": "execute_result",
          "data": {
            "text/html": [
              "<div>\n",
              "<style scoped>\n",
              "    .dataframe tbody tr th:only-of-type {\n",
              "        vertical-align: middle;\n",
              "    }\n",
              "\n",
              "    .dataframe tbody tr th {\n",
              "        vertical-align: top;\n",
              "    }\n",
              "\n",
              "    .dataframe thead th {\n",
              "        text-align: right;\n",
              "    }\n",
              "</style>\n",
              "<table border=\"1\" class=\"dataframe\">\n",
              "  <thead>\n",
              "    <tr style=\"text-align: right;\">\n",
              "      <th></th>\n",
              "      <th>text</th>\n",
              "      <th>hate</th>\n",
              "    </tr>\n",
              "  </thead>\n",
              "  <tbody>\n",
              "    <tr>\n",
              "      <th>0</th>\n",
              "      <td>!!! RT @mayasolovely: As a woman you shouldn't...</td>\n",
              "      <td>none</td>\n",
              "    </tr>\n",
              "    <tr>\n",
              "      <th>1</th>\n",
              "      <td>\" momma said no pussy cats inside my doghouse \"</td>\n",
              "      <td>none</td>\n",
              "    </tr>\n",
              "    <tr>\n",
              "      <th>2</th>\n",
              "      <td>\"@Addicted2Guys: -SimplyAddictedToGuys http://...</td>\n",
              "      <td>none</td>\n",
              "    </tr>\n",
              "    <tr>\n",
              "      <th>3</th>\n",
              "      <td>\"@AllAboutManFeet: http://t.co/3gzUpfuMev\" woo...</td>\n",
              "      <td>none</td>\n",
              "    </tr>\n",
              "    <tr>\n",
              "      <th>4</th>\n",
              "      <td>\"@Allyhaaaaa: Lemmie eat a Oreo &amp;amp; do these...</td>\n",
              "      <td>none</td>\n",
              "    </tr>\n",
              "    <tr>\n",
              "      <th>...</th>\n",
              "      <td>...</td>\n",
              "      <td>...</td>\n",
              "    </tr>\n",
              "    <tr>\n",
              "      <th>30971</th>\n",
              "      <td>mykitchenrules bjtqld mkr mkr i think kat thin...</td>\n",
              "      <td>sexism</td>\n",
              "    </tr>\n",
              "    <tr>\n",
              "      <th>30972</th>\n",
              "      <td>reallifeyamcha yesyouresexist remind me when i...</td>\n",
              "      <td>sexism</td>\n",
              "    </tr>\n",
              "    <tr>\n",
              "      <th>30973</th>\n",
              "      <td>lmfao brandonhonaker lmfao who cares about the...</td>\n",
              "      <td>sexism</td>\n",
              "    </tr>\n",
              "    <tr>\n",
              "      <th>30974</th>\n",
              "      <td>rt mydearwormwood i want equal rights but i st...</td>\n",
              "      <td>sexism</td>\n",
              "    </tr>\n",
              "    <tr>\n",
              "      <th>30975</th>\n",
              "      <td>rt alexxxarich go ahead and call me sexist but...</td>\n",
              "      <td>sexism</td>\n",
              "    </tr>\n",
              "  </tbody>\n",
              "</table>\n",
              "<p>30976 rows × 2 columns</p>\n",
              "</div>"
            ],
            "text/plain": [
              "                                                    text    hate\n",
              "0      !!! RT @mayasolovely: As a woman you shouldn't...    none\n",
              "1        \" momma said no pussy cats inside my doghouse \"    none\n",
              "2      \"@Addicted2Guys: -SimplyAddictedToGuys http://...    none\n",
              "3      \"@AllAboutManFeet: http://t.co/3gzUpfuMev\" woo...    none\n",
              "4      \"@Allyhaaaaa: Lemmie eat a Oreo &amp; do these...    none\n",
              "...                                                  ...     ...\n",
              "30971  mykitchenrules bjtqld mkr mkr i think kat thin...  sexism\n",
              "30972  reallifeyamcha yesyouresexist remind me when i...  sexism\n",
              "30973  lmfao brandonhonaker lmfao who cares about the...  sexism\n",
              "30974  rt mydearwormwood i want equal rights but i st...  sexism\n",
              "30975  rt alexxxarich go ahead and call me sexist but...  sexism\n",
              "\n",
              "[30976 rows x 2 columns]"
            ]
          },
          "metadata": {
            "tags": []
          },
          "execution_count": 67
        }
      ]
    },
    {
      "cell_type": "code",
      "metadata": {
        "id": "zAcrTtZoUL3v"
      },
      "source": [
        ""
      ],
      "execution_count": null,
      "outputs": []
    }
  ]
}